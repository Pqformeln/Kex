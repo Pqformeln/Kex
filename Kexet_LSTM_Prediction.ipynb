{
  "nbformat": 4,
  "nbformat_minor": 0,
  "metadata": {
    "colab": {
      "provenance": []
    },
    "kernelspec": {
      "name": "python3",
      "display_name": "Python 3"
    },
    "language_info": {
      "name": "python"
    }
  },
  "cells": [
    {
      "cell_type": "markdown",
      "source": [
        "# Enhancing Stock Price Prediction with Sentiment Analysis: A Comparison of LSTM Models\n",
        "\n",
        "This module works to train the LSTM model on the historical stock data, lets us add the sentiment scores and also provides an evaluation of RMSE and MAE for the trained model."
      ],
      "metadata": {
        "id": "1uZ-MDQ6DH3S"
      }
    },
    {
      "cell_type": "markdown",
      "source": [
        "Here is a list of ticker symbols from the report:\n",
        "\n",
        "\n",
        "\n",
        "\n",
        "\n",
        "> *   EMBRAC-B.ST (Embracer Group AB)\n",
        "*   EVO.ST (Evolution Gaming)\n",
        "*   INVE-B (Investor AB)\n",
        "*   KINV-B.ST (Kinnevik AB)\n",
        "*   HM-B.ST (Hennes & Mauritz AB)\n",
        "*   SAND.ST (Sandvik AB)\n",
        "\n",
        "\n",
        "\n",
        "\n",
        "\n",
        "\n",
        "\n",
        "\n"
      ],
      "metadata": {
        "id": "KSc_frkbDumv"
      }
    },
    {
      "cell_type": "code",
      "source": [
        "ticker = 'EMBRAC-B.ST'\n",
        "features = 6"
      ],
      "metadata": {
        "id": "CPEZRN92GxjO"
      },
      "execution_count": null,
      "outputs": []
    },
    {
      "cell_type": "code",
      "execution_count": null,
      "metadata": {
        "id": "lukxnhJdxWV-",
        "colab": {
          "base_uri": "https://localhost:8080/"
        },
        "outputId": "50bec5b9-85e5-4698-c390-3b286f2d6463"
      },
      "outputs": [
        {
          "output_type": "stream",
          "name": "stdout",
          "text": [
            "\r[*********************100%***********************]  1 of 1 completed\n",
            "                  Open        High        Low      Close  Adj Close   Volume\n",
            "Date                                                                        \n",
            "2022-01-03   96.510002  100.120003  96.000000  99.400002  99.400002  4923855\n",
            "2022-01-04  100.000000  101.000000  94.709999  94.709999  94.709999  5050120\n",
            "2022-01-05   95.000000   95.400002  92.540001  94.959999  94.959999  2190751\n",
            "2022-01-07   93.220001   94.690002  90.000000  90.430000  90.430000  5112192\n",
            "2022-01-10   91.000000   91.500000  86.699997  87.360001  87.360001  5555989\n",
            "...                ...         ...        ...        ...        ...      ...\n",
            "2022-12-23   50.299999   50.660000  49.250000  50.330002  50.330002  2457479\n",
            "2022-12-27   50.349998   51.000000  49.580002  50.000000  50.000000  2267625\n",
            "2022-12-28   50.080002   50.200001  48.439999  48.509998  48.509998  2427534\n",
            "2022-12-29   48.154999   50.270000  47.939999  50.070000  50.070000  3447344\n",
            "2022-12-30   50.049999   50.049999  47.084999  47.290001  47.290001  5946848\n",
            "\n",
            "[253 rows x 6 columns]\n"
          ]
        }
      ],
      "source": [
        "import time\n",
        "import math\n",
        "import yfinance as yf\n",
        "import numpy as np\n",
        "import pandas as pd\n",
        "from sklearn.preprocessing import MinMaxScaler \n",
        "import matplotlib.pyplot as plt\n",
        "import tensorflow as tf\n",
        "from tensorflow import keras\n",
        "from tensorflow.keras import layers\n",
        "import sklearn.preprocessing as prep\n",
        "\n",
        "df = yf.download(ticker, start='2021-01-01', end='2023-01-01')\n",
        "df.head()\n",
        "sc = prep.StandardScaler()\n",
        "print(df)"
      ]
    },
    {
      "cell_type": "markdown",
      "source": [
        "Optional addition of sentiment"
      ],
      "metadata": {
        "id": "9kUSq1FTEdDn"
      }
    },
    {
      "cell_type": "code",
      "source": [
        "df['Sentiment'] = sentiment\n",
        "features = 7"
      ],
      "metadata": {
        "colab": {
          "base_uri": "https://localhost:8080/",
          "height": 165
        },
        "id": "_iaQbKj9GOgp",
        "outputId": "88329509-bef6-49b0-c677-663134a876dc"
      },
      "execution_count": null,
      "outputs": [
        {
          "output_type": "error",
          "ename": "NameError",
          "evalue": "ignored",
          "traceback": [
            "\u001b[0;31m---------------------------------------------------------------------------\u001b[0m",
            "\u001b[0;31mNameError\u001b[0m                                 Traceback (most recent call last)",
            "\u001b[0;32m<ipython-input-11-daee9780a1b4>\u001b[0m in \u001b[0;36m<cell line: 1>\u001b[0;34m()\u001b[0m\n\u001b[0;32m----> 1\u001b[0;31m \u001b[0mdf\u001b[0m\u001b[0;34m[\u001b[0m\u001b[0;34m'Sentiment'\u001b[0m\u001b[0;34m]\u001b[0m \u001b[0;34m=\u001b[0m \u001b[0msentiment\u001b[0m\u001b[0;34m\u001b[0m\u001b[0;34m\u001b[0m\u001b[0m\n\u001b[0m",
            "\u001b[0;31mNameError\u001b[0m: name 'sentiment' is not defined"
          ]
        }
      ]
    },
    {
      "cell_type": "markdown",
      "source": [
        "##Plotting of the stock closing price over the past year"
      ],
      "metadata": {
        "id": "9OD7gT5oEsXN"
      }
    },
    {
      "cell_type": "code",
      "source": [
        "plt.figure(figsize=(5, 3))\n",
        "plt.title('Stock Prices History')\n",
        "plt.plot(df['Close'])\n",
        "plt.xlabel('Date')\n",
        "plt.ylabel('Prices ($)')"
      ],
      "metadata": {
        "colab": {
          "base_uri": "https://localhost:8080/",
          "height": 350
        },
        "id": "YGRmE8CmxfDR",
        "outputId": "fc6d298b-9755-4f01-efa7-da57f835fb5e"
      },
      "execution_count": null,
      "outputs": [
        {
          "output_type": "execute_result",
          "data": {
            "text/plain": [
              "Text(0, 0.5, 'Prices ($)')"
            ]
          },
          "metadata": {},
          "execution_count": 3
        },
        {
          "output_type": "display_data",
          "data": {
            "text/plain": [
              "<Figure size 500x300 with 1 Axes>"
            ],
            "image/png": "[encoded data removed]"
          },
          "metadata": {}
        }
      ]
    },
    {
      "cell_type": "code",
      "source": [
        "def standard_scaler(X_train, X_test):\n",
        "    train_samples, train_nx, train_ny = X_train.shape\n",
        "    test_samples, test_nx, test_ny = X_test.shape\n",
        "    \n",
        "    X_train = X_train.reshape((train_samples, train_nx * train_ny))\n",
        "    X_test = X_test.reshape((test_samples, test_nx * test_ny))\n",
        "    preprocessor = sc.fit(X_train)\n",
        "    print(X_train.shape)\n",
        "    X_train = preprocessor.transform(X_train)\n",
        "    X_test = preprocessor.transform(X_test)\n",
        "    \n",
        "    X_train = X_train.reshape((train_samples, train_nx, train_ny))\n",
        "    X_test = X_test.reshape((test_samples, test_nx, test_ny))\n",
        "    \n",
        "    return X_train, X_test"
      ],
      "metadata": {
        "id": "tZFQqkiI6zEn"
      },
      "execution_count": null,
      "outputs": []
    },
    {
      "cell_type": "code",
      "source": [
        "def preprocess_data(stock, seq_len):\n",
        "    amount_of_features = len(stock.columns)\n",
        "    data = stock.values\n",
        "    \n",
        "    sequence_length = seq_len + 1\n",
        "    result = []\n",
        "    for index in range(len(data) - sequence_length):\n",
        "        result.append(data[index : index + sequence_length])\n",
        "        \n",
        "    result = np.array(result)\n",
        "    print(\"result\")\n",
        "    print(result.shape)\n",
        "    row = round(0.7 * result.shape[0])\n",
        "    train = result[: int(row), :]\n",
        "    \n",
        "    train, result = standard_scaler(train, result)\n",
        "    \n",
        "    X_train = train[:, : -1]\n",
        "    y_train = train[:, -1][: ,-1]\n",
        "    X_test = result[int(row) :, : -1]\n",
        "    y_test = result[int(row) :, -1][ : ,-1]\n",
        "\n",
        "    print(len(X_train))\n",
        "\n",
        "    X_train = np.reshape(X_train, (X_train.shape[0], X_train.shape[1], amount_of_features))\n",
        "    X_test = np.reshape(X_test, (X_test.shape[0], X_test.shape[1], amount_of_features))  \n",
        "\n",
        "    return [X_train, y_train, X_test, y_test]"
      ],
      "metadata": {
        "id": "sxGT6gvr5yFc"
      },
      "execution_count": null,
      "outputs": []
    },
    {
      "cell_type": "code",
      "source": [
        "window = 60\n",
        "X_train, y_train, X_test, y_test = preprocess_data(df[:: -1], window)\n",
        "print(\"X_train\", X_train.shape)\n",
        "print(\"y_train\", y_train.shape)\n",
        "print(\"X_test\", X_test.shape)\n",
        "print(\"y_test\", y_test.shape)"
      ],
      "metadata": {
        "colab": {
          "base_uri": "https://localhost:8080/"
        },
        "id": "PKqsJrmmxmwI",
        "outputId": "31bb0327-cbf3-494d-d425-d432e9d1aef8"
      },
      "execution_count": null,
      "outputs": [
        {
          "output_type": "stream",
          "name": "stdout",
          "text": [
            "result\n",
            "(242, 11, 6)\n",
            "(169, 66)\n",
            "169\n",
            "X_train (169, 10, 6)\n",
            "y_train (169,)\n",
            "X_test (73, 10, 6)\n",
            "y_test (73,)\n"
          ]
        }
      ]
    },
    {
      "cell_type": "code",
      "source": [
        "model = keras.Sequential()\n",
        "model.add(layers.LSTM(100, return_sequences=True, input_shape=(X_train.shape[1], features)))\n",
        "model.add(layers.LSTM(100, return_sequences=False))\n",
        "model.add(layers.Dense(25))\n",
        "model.add(layers.Dense(1))\n",
        "model.summary()"
      ],
      "metadata": {
        "colab": {
          "base_uri": "https://localhost:8080/"
        },
        "id": "FejNMIjTx_ul",
        "outputId": "19bdce6c-71cb-4b42-9645-ad8d323698bf"
      },
      "execution_count": null,
      "outputs": [
        {
          "output_type": "stream",
          "name": "stdout",
          "text": [
            "Model: \"sequential_3\"\n",
            "_________________________________________________________________\n",
            " Layer (type)                Output Shape              Param #   \n",
            "=================================================================\n",
            " lstm_6 (LSTM)               (None, 10, 100)           42800     \n",
            "                                                                 \n",
            " lstm_7 (LSTM)               (None, 100)               80400     \n",
            "                                                                 \n",
            " dense_6 (Dense)             (None, 25)                2525      \n",
            "                                                                 \n",
            " dense_7 (Dense)             (None, 1)                 26        \n",
            "                                                                 \n",
            "=================================================================\n",
            "Total params: 125,751\n",
            "Trainable params: 125,751\n",
            "Non-trainable params: 0\n",
            "_________________________________________________________________\n"
          ]
        }
      ]
    },
    {
      "cell_type": "code",
      "source": [
        "model.compile(optimizer='adam', loss='mean_squared_error')\n",
        "model.fit(X_train, y_train, batch_size= 20, epochs=10)"
      ],
      "metadata": {
        "colab": {
          "base_uri": "https://localhost:8080/"
        },
        "id": "s5EzE607yCV4",
        "outputId": "e464e5aa-1c56-40f5-bd15-592c50ab19af"
      },
      "execution_count": null,
      "outputs": [
        {
          "output_type": "stream",
          "name": "stdout",
          "text": [
            "Epoch 1/10\n",
            "9/9 [==============================] - 5s 20ms/step - loss: 0.6574\n",
            "Epoch 2/10\n",
            "9/9 [==============================] - 0s 20ms/step - loss: 0.5940\n",
            "Epoch 3/10\n",
            "9/9 [==============================] - 0s 19ms/step - loss: 0.6170\n",
            "Epoch 4/10\n",
            "9/9 [==============================] - 0s 22ms/step - loss: 0.5889\n",
            "Epoch 5/10\n",
            "9/9 [==============================] - 0s 18ms/step - loss: 0.5790\n",
            "Epoch 6/10\n",
            "9/9 [==============================] - 0s 21ms/step - loss: 0.5671\n",
            "Epoch 7/10\n",
            "9/9 [==============================] - 0s 33ms/step - loss: 0.5462\n",
            "Epoch 8/10\n",
            "9/9 [==============================] - 0s 32ms/step - loss: 0.5245\n",
            "Epoch 9/10\n",
            "9/9 [==============================] - 0s 32ms/step - loss: 0.5065\n",
            "Epoch 10/10\n",
            "9/9 [==============================] - 0s 31ms/step - loss: 0.5001\n"
          ]
        },
        {
          "output_type": "execute_result",
          "data": {
            "text/plain": [
              "<keras.callbacks.History at 0x7f9e1c44a290>"
            ]
          },
          "metadata": {},
          "execution_count": 39
        }
      ]
    },
    {
      "cell_type": "code",
      "source": [
        "from sklearn.metrics import mean_absolute_error\n",
        "y_train_pred = model.predict(X_train)\n",
        "y_test_pred = model.predict(X_test)\n",
        "\n",
        "#RMSE for training dataset\n",
        "trainScore = model.evaluate(X_train, y_train, verbose=0)\n",
        "print('Train Score: %.2f RMSE' % math.sqrt(trainScore))\n",
        "\n",
        "#RMSE for testing dataset\n",
        "testScore = model.evaluate(X_test, y_test, verbose=0)\n",
        "print('Test Score: %.2f RMSE' % math.sqrt(testScore))\n",
        "\n",
        "#MAE for training dataset\n",
        "train_mae = mean_absolute_error(y_train, y_train_pred)\n",
        "print('Train MAE: %.2f' % train_mae)\n",
        "\n",
        "#MAE for testing dataset\n",
        "test_mae = mean_absolute_error(y_test, y_test_pred)\n",
        "print('Test MAE: %.2f' % test_mae)\n",
        "\n"
      ],
      "metadata": {
        "colab": {
          "base_uri": "https://localhost:8080/"
        },
        "id": "a7prPfZ0Fktd",
        "outputId": "1b1e9797-8c04-4e75-bab3-db1e20ee5617"
      },
      "execution_count": null,
      "outputs": [
        {
          "output_type": "stream",
          "name": "stdout",
          "text": [
            "6/6 [==============================] - 1s 8ms/step\n",
            "3/3 [==============================] - 0s 8ms/step\n",
            "Train Score: 0.64 RMSE\n",
            "Test Score: 0.57 RMSE\n",
            "Train MAE: 0.45\n",
            "Test MAE: 0.38\n"
          ]
        }
      ]
    }
  ]
}